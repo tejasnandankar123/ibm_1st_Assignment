{
 "cells": [
  {
   "cell_type": "markdown",
   "id": "e3daa860-8b2a-421e-853b-0ff43bd89847",
   "metadata": {},
   "source": [
    "# My Jupyter Notebook on IBM Watson Studio"
   ]
  },
  {
   "cell_type": "markdown",
   "id": "18f4cc89-1eb8-4592-8a66-c194c6ee604c",
   "metadata": {},
   "source": [
    "## Tejas Nandankar\n",
    "Currently , I am a student & pursuing PG Diploma in Data Science "
   ]
  },
  {
   "cell_type": "markdown",
   "id": "109d1f09-baa2-4753-b716-e05fe40db77b",
   "metadata": {},
   "source": [
    "*I am interested in data science because  its so interesting and due to this we can understand the big numbers data quick by using visualization.*"
   ]
  },
  {
   "cell_type": "markdown",
   "id": "45853cc6-c058-4ea3-8bf7-d4a21e13620e",
   "metadata": {},
   "source": [
    "### Addition of two numbers"
   ]
  },
  {
   "cell_type": "code",
   "execution_count": 8,
   "id": "bf38ed74-25d9-421f-a78f-900368b42e4d",
   "metadata": {},
   "outputs": [
    {
     "name": "stdin",
     "output_type": "stream",
     "text": [
      " 5\n",
      " 6\n"
     ]
    },
    {
     "name": "stdout",
     "output_type": "stream",
     "text": [
      "11 addition of x,y: \n"
     ]
    }
   ],
   "source": [
    "def addition():\n",
    "    x=int(input())\n",
    "    y=int(input())\n",
    "    add=x+y\n",
    "    print(add,'addition of x,y: ')\n",
    "    \n",
    "addition()"
   ]
  },
  {
   "cell_type": "code",
   "execution_count": null,
   "id": "88f45374-1149-401c-a606-3e7572a14565",
   "metadata": {},
   "outputs": [],
   "source": []
  }
 ],
 "metadata": {
  "kernelspec": {
   "display_name": "Python",
   "language": "python",
   "name": "conda-env-python-py"
  },
  "language_info": {
   "codemirror_mode": {
    "name": "ipython",
    "version": 3
   },
   "file_extension": ".py",
   "mimetype": "text/x-python",
   "name": "python",
   "nbconvert_exporter": "python",
   "pygments_lexer": "ipython3",
   "version": "3.7.12"
  }
 },
 "nbformat": 4,
 "nbformat_minor": 5
}
